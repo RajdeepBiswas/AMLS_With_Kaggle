{
  "cells": [
    {
      "cell_type": "code",
      "source": [
        "pip install kaggle"
      ],
      "outputs": [
        {
          "output_type": "stream",
          "name": "stdout",
          "text": [
            "Requirement already satisfied: kaggle in /anaconda/envs/azureml_py36/lib/python3.6/site-packages (1.5.12)\n",
            "Requirement already satisfied: urllib3 in /anaconda/envs/azureml_py36/lib/python3.6/site-packages (from kaggle) (1.25.11)\n",
            "Requirement already satisfied: six>=1.10 in /anaconda/envs/azureml_py36/lib/python3.6/site-packages (from kaggle) (1.15.0)\n",
            "Requirement already satisfied: python-dateutil in /anaconda/envs/azureml_py36/lib/python3.6/site-packages (from kaggle) (2.8.1)\n",
            "Requirement already satisfied: python-slugify in /anaconda/envs/azureml_py36/lib/python3.6/site-packages (from kaggle) (4.0.1)\n",
            "Requirement already satisfied: certifi in /anaconda/envs/azureml_py36/lib/python3.6/site-packages (from kaggle) (2020.12.5)\n",
            "Requirement already satisfied: requests in /anaconda/envs/azureml_py36/lib/python3.6/site-packages (from kaggle) (2.25.1)\n",
            "Requirement already satisfied: tqdm in /anaconda/envs/azureml_py36/lib/python3.6/site-packages (from kaggle) (4.55.1)\n",
            "Requirement already satisfied: text-unidecode>=1.3 in /anaconda/envs/azureml_py36/lib/python3.6/site-packages (from python-slugify->kaggle) (1.3)\n",
            "Requirement already satisfied: chardet<5,>=3.0.2 in /anaconda/envs/azureml_py36/lib/python3.6/site-packages (from requests->kaggle) (4.0.0)\n",
            "Requirement already satisfied: idna<3,>=2.5 in /anaconda/envs/azureml_py36/lib/python3.6/site-packages (from requests->kaggle) (2.10)\n",
            "Note: you may need to restart the kernel to use updated packages.\n"
          ]
        }
      ],
      "execution_count": 6,
      "metadata": {
        "gather": {
          "logged": 1619632037585
        }
      }
    },
    {
      "cell_type": "markdown",
      "source": [
        "#### Setup Directory Structure"
      ],
      "metadata": {
        "nteract": {
          "transient": {
            "deleting": false
          }
        }
      }
    },
    {
      "cell_type": "code",
      "source": [
        "data_folder = os.path.join(os.getcwd(), 'data')\r\n",
        "#Create the data directory\r\n",
        "os.makedirs(data_folder, exist_ok=True)\r\n",
        "\r\n",
        "kaggle_folder = os.path.join(os.getcwd(), '.kaggle')\r\n",
        "#Create the data directory\r\n",
        "os.makedirs(kaggle_folder, exist_ok=True)\r\n",
        "\r\n",
        "#Manually upload the kaggle.json generated from kaggle in .kaggle folder which conains the username and the key"
      ],
      "outputs": [],
      "execution_count": 9,
      "metadata": {
        "collapsed": true,
        "jupyter": {
          "source_hidden": false,
          "outputs_hidden": false
        },
        "nteract": {
          "transient": {
            "deleting": false
          }
        },
        "gather": {
          "logged": 1619641271866
        }
      }
    },
    {
      "cell_type": "code",
      "source": [
        "kaggle_key_folder = '/home/azureuser/.kaggle'\r\n",
        "#Create the .kaggle key directory\r\n",
        "os.makedirs(kaggle_key_folder, exist_ok=True)"
      ],
      "outputs": [],
      "execution_count": 10,
      "metadata": {
        "collapsed": true,
        "jupyter": {
          "source_hidden": false,
          "outputs_hidden": false
        },
        "nteract": {
          "transient": {
            "deleting": false
          }
        },
        "gather": {
          "logged": 1619641320768
        }
      }
    },
    {
      "cell_type": "code",
      "source": [
        "import shutil\r\n",
        "import os\r\n",
        "kaggle_file = kaggle_folder + '/kaggle.json'\r\n",
        "shutil.copy(kaggle_file, kaggle_key_folder)\r\n",
        "os.remove(kaggle_file)"
      ],
      "outputs": [],
      "execution_count": 23,
      "metadata": {
        "collapsed": true,
        "jupyter": {
          "source_hidden": false,
          "outputs_hidden": false
        },
        "nteract": {
          "transient": {
            "deleting": false
          }
        },
        "gather": {
          "logged": 1619646503396
        }
      }
    },
    {
      "cell_type": "code",
      "source": [
        "#No other users can read\r\n",
        "!chmod 600 /home/azureuser/.kaggle/kaggle.json"
      ],
      "outputs": [],
      "execution_count": 12,
      "metadata": {
        "collapsed": true,
        "jupyter": {
          "source_hidden": false,
          "outputs_hidden": false
        },
        "nteract": {
          "transient": {
            "deleting": false
          }
        },
        "gather": {
          "logged": 1619641351825
        }
      }
    },
    {
      "cell_type": "code",
      "source": [
        "import kaggle"
      ],
      "outputs": [],
      "execution_count": 13,
      "metadata": {
        "collapsed": true,
        "jupyter": {
          "source_hidden": false,
          "outputs_hidden": false
        },
        "nteract": {
          "transient": {
            "deleting": false
          }
        },
        "gather": {
          "logged": 1619641358405
        }
      }
    },
    {
      "cell_type": "code",
      "source": [
        "!kaggle --version"
      ],
      "outputs": [
        {
          "output_type": "stream",
          "name": "stdout",
          "text": [
            "Kaggle API 1.5.12\r\n"
          ]
        }
      ],
      "execution_count": 14,
      "metadata": {
        "collapsed": true,
        "jupyter": {
          "source_hidden": false,
          "outputs_hidden": false
        },
        "nteract": {
          "transient": {
            "deleting": false
          }
        }
      }
    },
    {
      "cell_type": "code",
      "source": [
        "#List the competition files\r\n",
        "!kaggle competitions files -c zillow-prize-1"
      ],
      "outputs": [
        {
          "output_type": "stream",
          "name": "stdout",
          "text": [
            "name                          size  creationDate         \r\n",
            "---------------------------  -----  -------------------  \r\n",
            "sample_submission.csv         60MB  2019-12-11 04:25:25  \r\n",
            "train_2017.csv                 3MB  2019-12-11 04:25:25  \r\n",
            "properties_2017.csv          620MB  2019-12-11 04:25:25  \r\n",
            "properties_2016.csv          619MB  2019-12-11 04:25:25  \r\n",
            "train_2016_v2.csv              2MB  2019-12-11 04:25:25  \r\n",
            "zillow_data_dictionary.xlsx   19KB  2019-12-11 04:25:25  \r\n"
          ]
        }
      ],
      "execution_count": 15,
      "metadata": {
        "collapsed": true,
        "jupyter": {
          "source_hidden": false,
          "outputs_hidden": false
        },
        "nteract": {
          "transient": {
            "deleting": false
          }
        },
        "gather": {
          "logged": 1619641403847
        }
      }
    },
    {
      "cell_type": "code",
      "source": [
        "#Download the zipped file at the current working directory\r\n",
        "!kaggle competitions download -c zillow-prize-1"
      ],
      "outputs": [
        {
          "output_type": "stream",
          "name": "stdout",
          "text": [
            "403 - Forbidden\r\n"
          ]
        }
      ],
      "execution_count": 16,
      "metadata": {
        "collapsed": true,
        "jupyter": {
          "source_hidden": false,
          "outputs_hidden": false
        },
        "nteract": {
          "transient": {
            "deleting": false
          }
        },
        "gather": {
          "logged": 1619641466395
        }
      }
    },
    {
      "cell_type": "markdown",
      "source": [
        "#### Have to accept the terms and condition else will get \"403 - Forbidden\""
      ],
      "metadata": {
        "nteract": {
          "transient": {
            "deleting": false
          }
        }
      }
    },
    {
      "cell_type": "code",
      "source": [
        "#Download the zipped file at the current working directory\r\n",
        "#Lets try again\r\n",
        "!kaggle competitions download -c zillow-prize-1"
      ],
      "outputs": [
        {
          "output_type": "stream",
          "name": "stdout",
          "text": [
            "Downloading zillow-prize-1.zip to /mnt/batch/tasks/shared/LS_root/mounts/clusters/compute-cpu-ds12-v2/code/Users/rabiswas/HomeValuePrediction\n",
            " 95%|█████████████████████████████████████▉  | 322M/340M [00:05<00:00, 66.7MB/s]\n",
            "100%|████████████████████████████████████████| 340M/340M [00:08<00:00, 42.4MB/s]\n"
          ]
        }
      ],
      "execution_count": 17,
      "metadata": {
        "collapsed": true,
        "jupyter": {
          "source_hidden": false,
          "outputs_hidden": false
        },
        "nteract": {
          "transient": {
            "deleting": false
          }
        },
        "gather": {
          "logged": 1619641678029
        }
      }
    },
    {
      "cell_type": "code",
      "source": [
        "#Extract files in the data folder\r\n",
        "import zipfile\r\n",
        "with zipfile.ZipFile(\"zillow-prize-1.zip\",\"r\") as zip_ref:\r\n",
        "    zip_ref.extractall(data_folder)"
      ],
      "outputs": [],
      "execution_count": 19,
      "metadata": {
        "collapsed": true,
        "jupyter": {
          "source_hidden": false,
          "outputs_hidden": false
        },
        "nteract": {
          "transient": {
            "deleting": false
          }
        },
        "gather": {
          "logged": 1619641896673
        }
      }
    },
    {
      "cell_type": "code",
      "source": [
        "#List the folder structure and the files\r\n",
        "for root, directories, files in os.walk(data_folder, topdown=True):\r\n",
        "\tfor name in files:\r\n",
        "\t\tprint(os.path.join(root, name))"
      ],
      "outputs": [
        {
          "output_type": "stream",
          "name": "stdout",
          "text": [
            "/mnt/batch/tasks/shared/LS_root/mounts/clusters/compute-cpu-ds12-v2/code/Users/rabiswas/HomeValuePrediction/data/properties_2016.csv\n",
            "/mnt/batch/tasks/shared/LS_root/mounts/clusters/compute-cpu-ds12-v2/code/Users/rabiswas/HomeValuePrediction/data/properties_2017.csv\n",
            "/mnt/batch/tasks/shared/LS_root/mounts/clusters/compute-cpu-ds12-v2/code/Users/rabiswas/HomeValuePrediction/data/sample_submission.csv\n",
            "/mnt/batch/tasks/shared/LS_root/mounts/clusters/compute-cpu-ds12-v2/code/Users/rabiswas/HomeValuePrediction/data/train_2016_v2.csv\n",
            "/mnt/batch/tasks/shared/LS_root/mounts/clusters/compute-cpu-ds12-v2/code/Users/rabiswas/HomeValuePrediction/data/train_2017.csv\n",
            "/mnt/batch/tasks/shared/LS_root/mounts/clusters/compute-cpu-ds12-v2/code/Users/rabiswas/HomeValuePrediction/data/zillow_data_dictionary.xlsx\n"
          ]
        }
      ],
      "execution_count": 20,
      "metadata": {
        "collapsed": true,
        "jupyter": {
          "source_hidden": false,
          "outputs_hidden": false
        },
        "nteract": {
          "transient": {
            "deleting": false
          }
        },
        "gather": {
          "logged": 1619641948863
        }
      }
    },
    {
      "cell_type": "code",
      "source": [
        "import pandas as pd # data processing, CSV file I/O (e.g. pd.read_csv)"
      ],
      "outputs": [],
      "execution_count": 21,
      "metadata": {
        "collapsed": true,
        "jupyter": {
          "source_hidden": false,
          "outputs_hidden": false
        },
        "nteract": {
          "transient": {
            "deleting": false
          }
        },
        "gather": {
          "logged": 1619642011527
        }
      }
    },
    {
      "cell_type": "code",
      "source": [
        "import pandas as pd\r\n",
        "properties_file = '/mnt/batch/tasks/shared/LS_root/mounts/clusters/compute-cpu-ds12-v2/code/Users/rabiswas/HomeValuePrediction/data/properties_2017.csv'\r\n",
        "df_properties = pd.read_csv(properties_file)\r\n",
        "#It is easier to view the data if we transpose\r\n",
        "df_properties.head(3).transpose()"
      ],
      "outputs": [
        {
          "output_type": "stream",
          "name": "stderr",
          "text": [
            "/anaconda/envs/azureml_py36/lib/python3.6/site-packages/IPython/core/interactiveshell.py:3072: DtypeWarning: Columns (49) have mixed types.Specify dtype option on import or set low_memory=False.\n",
            "  interactivity=interactivity, compiler=compiler, result=result)\n"
          ]
        },
        {
          "output_type": "execute_result",
          "execution_count": 22,
          "data": {
            "text/plain": "                                        0            1            2\nparcelid                         10754147     10759547     10843547\nairconditioningtypeid                 NaN          NaN          NaN\narchitecturalstyletypeid              NaN          NaN          NaN\nbasementsqft                          NaN          NaN          NaN\nbathroomcnt                             0            0            0\nbedroomcnt                              0            0            0\nbuildingclasstypeid                   NaN          NaN            5\nbuildingqualitytypeid                 NaN          NaN          NaN\ncalculatedbathnbr                     NaN          NaN          NaN\ndecktypeid                            NaN          NaN          NaN\nfinishedfloor1squarefeet              NaN          NaN          NaN\ncalculatedfinishedsquarefeet          NaN          NaN        73026\nfinishedsquarefeet12                  NaN          NaN          NaN\nfinishedsquarefeet13                  NaN          NaN          NaN\nfinishedsquarefeet15                  NaN          NaN        73026\nfinishedsquarefeet50                  NaN          NaN          NaN\nfinishedsquarefeet6                   NaN          NaN          NaN\nfips                                 6037         6037         6037\nfireplacecnt                          NaN          NaN          NaN\nfullbathcnt                           NaN          NaN          NaN\ngaragecarcnt                          NaN          NaN          NaN\ngaragetotalsqft                       NaN          NaN          NaN\nhashottuborspa                        NaN          NaN          NaN\nheatingorsystemtypeid                 NaN          NaN          NaN\nlatitude                      3.41444e+07  3.41404e+07  3.39894e+07\nlongitude                    -1.18654e+08 -1.18625e+08 -1.18395e+08\nlotsizesquarefeet                   85768         4083        63085\npoolcnt                               NaN          NaN          NaN\npoolsizesum                           NaN          NaN          NaN\npooltypeid10                          NaN          NaN          NaN\npooltypeid2                           NaN          NaN          NaN\npooltypeid7                           NaN          NaN          NaN\npropertycountylandusecode            010D         0109         1200\npropertylandusetypeid                 269          261           47\npropertyzoningdesc                    NaN       LCA11*         LAC2\nrawcensustractandblock         6.0378e+07   6.0378e+07   6.0377e+07\nregionidcity                        37688        37688        51617\nregionidcounty                       3101         3101         3101\nregionidneighborhood                  NaN          NaN          NaN\nregionidzip                         96337        96337        96095\nroomcnt                                 0            0            0\nstorytypeid                           NaN          NaN          NaN\nthreequarterbathnbr                   NaN          NaN          NaN\ntypeconstructiontypeid                NaN          NaN          NaN\nunitcnt                               NaN          NaN            2\nyardbuildingsqft17                    NaN          NaN          NaN\nyardbuildingsqft26                    NaN          NaN          NaN\nyearbuilt                             NaN          NaN         1959\nnumberofstories                       NaN          NaN            1\nfireplaceflag                         NaN          NaN          NaN\nstructuretaxvaluedollarcnt            NaN          NaN       660680\ntaxvaluedollarcnt                       9        27516  1.43494e+06\nassessmentyear                       2016         2015         2016\nlandtaxvaluedollarcnt                   9        27516       774261\ntaxamount                             NaN          NaN      20800.4\ntaxdelinquencyflag                    NaN          NaN          NaN\ntaxdelinquencyyear                    NaN          NaN          NaN\ncensustractandblock                   NaN          NaN          NaN",
            "text/html": "<div>\n<style scoped>\n    .dataframe tbody tr th:only-of-type {\n        vertical-align: middle;\n    }\n\n    .dataframe tbody tr th {\n        vertical-align: top;\n    }\n\n    .dataframe thead th {\n        text-align: right;\n    }\n</style>\n<table border=\"1\" class=\"dataframe\">\n  <thead>\n    <tr style=\"text-align: right;\">\n      <th></th>\n      <th>0</th>\n      <th>1</th>\n      <th>2</th>\n    </tr>\n  </thead>\n  <tbody>\n    <tr>\n      <th>parcelid</th>\n      <td>10754147</td>\n      <td>10759547</td>\n      <td>10843547</td>\n    </tr>\n    <tr>\n      <th>airconditioningtypeid</th>\n      <td>NaN</td>\n      <td>NaN</td>\n      <td>NaN</td>\n    </tr>\n    <tr>\n      <th>architecturalstyletypeid</th>\n      <td>NaN</td>\n      <td>NaN</td>\n      <td>NaN</td>\n    </tr>\n    <tr>\n      <th>basementsqft</th>\n      <td>NaN</td>\n      <td>NaN</td>\n      <td>NaN</td>\n    </tr>\n    <tr>\n      <th>bathroomcnt</th>\n      <td>0</td>\n      <td>0</td>\n      <td>0</td>\n    </tr>\n    <tr>\n      <th>bedroomcnt</th>\n      <td>0</td>\n      <td>0</td>\n      <td>0</td>\n    </tr>\n    <tr>\n      <th>buildingclasstypeid</th>\n      <td>NaN</td>\n      <td>NaN</td>\n      <td>5</td>\n    </tr>\n    <tr>\n      <th>buildingqualitytypeid</th>\n      <td>NaN</td>\n      <td>NaN</td>\n      <td>NaN</td>\n    </tr>\n    <tr>\n      <th>calculatedbathnbr</th>\n      <td>NaN</td>\n      <td>NaN</td>\n      <td>NaN</td>\n    </tr>\n    <tr>\n      <th>decktypeid</th>\n      <td>NaN</td>\n      <td>NaN</td>\n      <td>NaN</td>\n    </tr>\n    <tr>\n      <th>finishedfloor1squarefeet</th>\n      <td>NaN</td>\n      <td>NaN</td>\n      <td>NaN</td>\n    </tr>\n    <tr>\n      <th>calculatedfinishedsquarefeet</th>\n      <td>NaN</td>\n      <td>NaN</td>\n      <td>73026</td>\n    </tr>\n    <tr>\n      <th>finishedsquarefeet12</th>\n      <td>NaN</td>\n      <td>NaN</td>\n      <td>NaN</td>\n    </tr>\n    <tr>\n      <th>finishedsquarefeet13</th>\n      <td>NaN</td>\n      <td>NaN</td>\n      <td>NaN</td>\n    </tr>\n    <tr>\n      <th>finishedsquarefeet15</th>\n      <td>NaN</td>\n      <td>NaN</td>\n      <td>73026</td>\n    </tr>\n    <tr>\n      <th>finishedsquarefeet50</th>\n      <td>NaN</td>\n      <td>NaN</td>\n      <td>NaN</td>\n    </tr>\n    <tr>\n      <th>finishedsquarefeet6</th>\n      <td>NaN</td>\n      <td>NaN</td>\n      <td>NaN</td>\n    </tr>\n    <tr>\n      <th>fips</th>\n      <td>6037</td>\n      <td>6037</td>\n      <td>6037</td>\n    </tr>\n    <tr>\n      <th>fireplacecnt</th>\n      <td>NaN</td>\n      <td>NaN</td>\n      <td>NaN</td>\n    </tr>\n    <tr>\n      <th>fullbathcnt</th>\n      <td>NaN</td>\n      <td>NaN</td>\n      <td>NaN</td>\n    </tr>\n    <tr>\n      <th>garagecarcnt</th>\n      <td>NaN</td>\n      <td>NaN</td>\n      <td>NaN</td>\n    </tr>\n    <tr>\n      <th>garagetotalsqft</th>\n      <td>NaN</td>\n      <td>NaN</td>\n      <td>NaN</td>\n    </tr>\n    <tr>\n      <th>hashottuborspa</th>\n      <td>NaN</td>\n      <td>NaN</td>\n      <td>NaN</td>\n    </tr>\n    <tr>\n      <th>heatingorsystemtypeid</th>\n      <td>NaN</td>\n      <td>NaN</td>\n      <td>NaN</td>\n    </tr>\n    <tr>\n      <th>latitude</th>\n      <td>3.41444e+07</td>\n      <td>3.41404e+07</td>\n      <td>3.39894e+07</td>\n    </tr>\n    <tr>\n      <th>longitude</th>\n      <td>-1.18654e+08</td>\n      <td>-1.18625e+08</td>\n      <td>-1.18395e+08</td>\n    </tr>\n    <tr>\n      <th>lotsizesquarefeet</th>\n      <td>85768</td>\n      <td>4083</td>\n      <td>63085</td>\n    </tr>\n    <tr>\n      <th>poolcnt</th>\n      <td>NaN</td>\n      <td>NaN</td>\n      <td>NaN</td>\n    </tr>\n    <tr>\n      <th>poolsizesum</th>\n      <td>NaN</td>\n      <td>NaN</td>\n      <td>NaN</td>\n    </tr>\n    <tr>\n      <th>pooltypeid10</th>\n      <td>NaN</td>\n      <td>NaN</td>\n      <td>NaN</td>\n    </tr>\n    <tr>\n      <th>pooltypeid2</th>\n      <td>NaN</td>\n      <td>NaN</td>\n      <td>NaN</td>\n    </tr>\n    <tr>\n      <th>pooltypeid7</th>\n      <td>NaN</td>\n      <td>NaN</td>\n      <td>NaN</td>\n    </tr>\n    <tr>\n      <th>propertycountylandusecode</th>\n      <td>010D</td>\n      <td>0109</td>\n      <td>1200</td>\n    </tr>\n    <tr>\n      <th>propertylandusetypeid</th>\n      <td>269</td>\n      <td>261</td>\n      <td>47</td>\n    </tr>\n    <tr>\n      <th>propertyzoningdesc</th>\n      <td>NaN</td>\n      <td>LCA11*</td>\n      <td>LAC2</td>\n    </tr>\n    <tr>\n      <th>rawcensustractandblock</th>\n      <td>6.0378e+07</td>\n      <td>6.0378e+07</td>\n      <td>6.0377e+07</td>\n    </tr>\n    <tr>\n      <th>regionidcity</th>\n      <td>37688</td>\n      <td>37688</td>\n      <td>51617</td>\n    </tr>\n    <tr>\n      <th>regionidcounty</th>\n      <td>3101</td>\n      <td>3101</td>\n      <td>3101</td>\n    </tr>\n    <tr>\n      <th>regionidneighborhood</th>\n      <td>NaN</td>\n      <td>NaN</td>\n      <td>NaN</td>\n    </tr>\n    <tr>\n      <th>regionidzip</th>\n      <td>96337</td>\n      <td>96337</td>\n      <td>96095</td>\n    </tr>\n    <tr>\n      <th>roomcnt</th>\n      <td>0</td>\n      <td>0</td>\n      <td>0</td>\n    </tr>\n    <tr>\n      <th>storytypeid</th>\n      <td>NaN</td>\n      <td>NaN</td>\n      <td>NaN</td>\n    </tr>\n    <tr>\n      <th>threequarterbathnbr</th>\n      <td>NaN</td>\n      <td>NaN</td>\n      <td>NaN</td>\n    </tr>\n    <tr>\n      <th>typeconstructiontypeid</th>\n      <td>NaN</td>\n      <td>NaN</td>\n      <td>NaN</td>\n    </tr>\n    <tr>\n      <th>unitcnt</th>\n      <td>NaN</td>\n      <td>NaN</td>\n      <td>2</td>\n    </tr>\n    <tr>\n      <th>yardbuildingsqft17</th>\n      <td>NaN</td>\n      <td>NaN</td>\n      <td>NaN</td>\n    </tr>\n    <tr>\n      <th>yardbuildingsqft26</th>\n      <td>NaN</td>\n      <td>NaN</td>\n      <td>NaN</td>\n    </tr>\n    <tr>\n      <th>yearbuilt</th>\n      <td>NaN</td>\n      <td>NaN</td>\n      <td>1959</td>\n    </tr>\n    <tr>\n      <th>numberofstories</th>\n      <td>NaN</td>\n      <td>NaN</td>\n      <td>1</td>\n    </tr>\n    <tr>\n      <th>fireplaceflag</th>\n      <td>NaN</td>\n      <td>NaN</td>\n      <td>NaN</td>\n    </tr>\n    <tr>\n      <th>structuretaxvaluedollarcnt</th>\n      <td>NaN</td>\n      <td>NaN</td>\n      <td>660680</td>\n    </tr>\n    <tr>\n      <th>taxvaluedollarcnt</th>\n      <td>9</td>\n      <td>27516</td>\n      <td>1.43494e+06</td>\n    </tr>\n    <tr>\n      <th>assessmentyear</th>\n      <td>2016</td>\n      <td>2015</td>\n      <td>2016</td>\n    </tr>\n    <tr>\n      <th>landtaxvaluedollarcnt</th>\n      <td>9</td>\n      <td>27516</td>\n      <td>774261</td>\n    </tr>\n    <tr>\n      <th>taxamount</th>\n      <td>NaN</td>\n      <td>NaN</td>\n      <td>20800.4</td>\n    </tr>\n    <tr>\n      <th>taxdelinquencyflag</th>\n      <td>NaN</td>\n      <td>NaN</td>\n      <td>NaN</td>\n    </tr>\n    <tr>\n      <th>taxdelinquencyyear</th>\n      <td>NaN</td>\n      <td>NaN</td>\n      <td>NaN</td>\n    </tr>\n    <tr>\n      <th>censustractandblock</th>\n      <td>NaN</td>\n      <td>NaN</td>\n      <td>NaN</td>\n    </tr>\n  </tbody>\n</table>\n</div>"
          },
          "metadata": {}
        }
      ],
      "execution_count": 22,
      "metadata": {
        "collapsed": true,
        "jupyter": {
          "source_hidden": false,
          "outputs_hidden": false
        },
        "nteract": {
          "transient": {
            "deleting": false
          }
        },
        "gather": {
          "logged": 1619642246955
        }
      }
    },
    {
      "cell_type": "code",
      "source": [],
      "outputs": [],
      "execution_count": null,
      "metadata": {
        "collapsed": true,
        "jupyter": {
          "source_hidden": false,
          "outputs_hidden": false
        },
        "nteract": {
          "transient": {
            "deleting": false
          }
        }
      }
    }
  ],
  "metadata": {
    "kernelspec": {
      "name": "python3-azureml",
      "language": "python",
      "display_name": "Python 3.6 - AzureML"
    },
    "language_info": {
      "name": "python",
      "version": "3.6.9",
      "mimetype": "text/x-python",
      "codemirror_mode": {
        "name": "ipython",
        "version": 3
      },
      "pygments_lexer": "ipython3",
      "nbconvert_exporter": "python",
      "file_extension": ".py"
    },
    "kernel_info": {
      "name": "python3-azureml"
    },
    "nteract": {
      "version": "nteract-front-end@1.0.0"
    },
    "microsoft": {
      "host": {
        "AzureML": {
          "notebookHasBeenCompleted": true
        }
      }
    }
  },
  "nbformat": 4,
  "nbformat_minor": 2
}